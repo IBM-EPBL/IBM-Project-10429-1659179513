{
 "cells": [
  {
   "cell_type": "code",
   "execution_count": 1,
   "id": "4dbfe954",
   "metadata": {},
   "outputs": [],
   "source": [
    "from keras.preprocessing.image import ImageDataGenerator"
   ]
  },
  {
   "cell_type": "code",
   "execution_count": 2,
   "id": "eb1557fc",
   "metadata": {},
   "outputs": [],
   "source": [
    "train_datagen=ImageDataGenerator(rescale=1./255,shear_range=0.2,zoom_range=0.2,horizontal_flip=True)\n",
    "test_datagen=ImageDataGenerator(rescale=1./255)"
   ]
  },
  {
   "cell_type": "code",
   "execution_count": 4,
   "id": "49db1ef6",
   "metadata": {},
   "outputs": [
    {
     "name": "stdout",
     "output_type": "stream",
     "text": [
      "Found 15341 images belonging to 6 classes.\n",
      "Found 6825 images belonging to 6 classes.\n"
     ]
    }
   ],
   "source": [
    "x_train=train_datagen.flow_from_directory(directory=r'C:\\Users\\haris\\Downloads\\Classification of Arrhythmia by Using Deep Learning with 2-D ECG Spectral Image Representation\\data\\train',target_size=(64,64),batch_size=32,class_mode='categorical')\n",
    "x_test=test_datagen.flow_from_directory(directory=r'C:\\Users\\haris\\Downloads\\Classification of Arrhythmia by Using Deep Learning with 2-D ECG Spectral Image Representation\\data\\test',target_size=(64,64),batch_size=32,class_mode='categorical')"
   ]
  },
  {
   "cell_type": "code",
   "execution_count": 7,
   "id": "9c700ca0",
   "metadata": {},
   "outputs": [],
   "source": [
    "import numpy as np\n",
    "import tensorflow\n",
    "from tensorflow import keras\n",
    "from tensorflow.keras.models import Sequential\n",
    "from tensorflow.keras import layers\n",
    "from tensorflow.keras.layers import Dense,Flatten\n",
    "from tensorflow.keras.layers import Conv2D,MaxPooling2D"
   ]
  },
  {
   "cell_type": "code",
   "execution_count": 8,
   "id": "c507738f",
   "metadata": {},
   "outputs": [],
   "source": [
    "model = keras.Sequential()\n",
    "model.add(Conv2D(32,(3,3),input_shape=(64,64,3),activation='relu'))\n",
    "model.add(MaxPooling2D(pool_size=(2,2)))\n",
    "model.add(Conv2D(32,(3,3),activation='relu'))\n",
    "model.add(MaxPooling2D(pool_size=(2,2)))\n",
    "model.add(Flatten())\n",
    "\n"
   ]
  },
  {
   "cell_type": "code",
   "execution_count": 9,
   "id": "e1c589fd",
   "metadata": {},
   "outputs": [],
   "source": [
    "model.add(Dense(32))\n",
    "model.add(Dense(6,activation='softmax'))"
   ]
  },
  {
   "cell_type": "code",
   "execution_count": 10,
   "id": "25edaefb",
   "metadata": {},
   "outputs": [
    {
     "name": "stdout",
     "output_type": "stream",
     "text": [
      "Model: \"sequential\"\n",
      "_________________________________________________________________\n",
      " Layer (type)                Output Shape              Param #   \n",
      "=================================================================\n",
      " conv2d (Conv2D)             (None, 62, 62, 32)        896       \n",
      "                                                                 \n",
      " max_pooling2d (MaxPooling2D  (None, 31, 31, 32)       0         \n",
      " )                                                               \n",
      "                                                                 \n",
      " conv2d_1 (Conv2D)           (None, 29, 29, 32)        9248      \n",
      "                                                                 \n",
      " max_pooling2d_1 (MaxPooling  (None, 14, 14, 32)       0         \n",
      " 2D)                                                             \n",
      "                                                                 \n",
      " flatten (Flatten)           (None, 6272)              0         \n",
      "                                                                 \n",
      " dense (Dense)               (None, 32)                200736    \n",
      "                                                                 \n",
      " dense_1 (Dense)             (None, 6)                 198       \n",
      "                                                                 \n",
      "=================================================================\n",
      "Total params: 211,078\n",
      "Trainable params: 211,078\n",
      "Non-trainable params: 0\n",
      "_________________________________________________________________\n"
     ]
    }
   ],
   "source": [
    "model.summary()"
   ]
  },
  {
   "cell_type": "code",
   "execution_count": 11,
   "id": "5b4ad8ba",
   "metadata": {},
   "outputs": [],
   "source": [
    "model.compile(optimizer='adam',loss='categorical_crossentropy',metrics=['accuracy'])"
   ]
  },
  {
   "cell_type": "code",
   "execution_count": 15,
   "id": "449390cb",
   "metadata": {},
   "outputs": [
    {
     "name": "stderr",
     "output_type": "stream",
     "text": [
      "<ipython-input-15-7a3095af4413>:1: UserWarning: `Model.fit_generator` is deprecated and will be removed in a future version. Please use `Model.fit`, which supports generators.\n",
      "  model.fit_generator(generator=x_train,steps_per_epoch=len(x_train),epochs=10,validation_data=x_test,validation_steps=len(x_test))\n"
     ]
    },
    {
     "name": "stdout",
     "output_type": "stream",
     "text": [
      "Epoch 1/10\n",
      "480/480 [==============================] - 30s 61ms/step - loss: 0.8122 - accuracy: 0.7231 - val_loss: 0.5785 - val_accuracy: 0.8183\n",
      "Epoch 2/10\n",
      "480/480 [==============================] - 29s 60ms/step - loss: 0.3152 - accuracy: 0.9061 - val_loss: 0.4612 - val_accuracy: 0.8695\n",
      "Epoch 3/10\n",
      "480/480 [==============================] - 29s 60ms/step - loss: 0.2676 - accuracy: 0.9207 - val_loss: 0.4943 - val_accuracy: 0.8547\n",
      "Epoch 4/10\n",
      "480/480 [==============================] - 29s 61ms/step - loss: 0.2319 - accuracy: 0.9328 - val_loss: 0.3065 - val_accuracy: 0.9131\n",
      "Epoch 5/10\n",
      "480/480 [==============================] - 29s 60ms/step - loss: 0.1906 - accuracy: 0.9437 - val_loss: 0.2788 - val_accuracy: 0.9109\n",
      "Epoch 6/10\n",
      "480/480 [==============================] - 29s 60ms/step - loss: 0.1640 - accuracy: 0.9506 - val_loss: 0.3088 - val_accuracy: 0.8968\n",
      "Epoch 7/10\n",
      "480/480 [==============================] - 29s 61ms/step - loss: 0.1492 - accuracy: 0.9555 - val_loss: 0.2997 - val_accuracy: 0.9153\n",
      "Epoch 8/10\n",
      "480/480 [==============================] - 29s 61ms/step - loss: 0.1275 - accuracy: 0.9600 - val_loss: 0.2890 - val_accuracy: 0.9188\n",
      "Epoch 9/10\n",
      "480/480 [==============================] - 29s 61ms/step - loss: 0.1220 - accuracy: 0.9637 - val_loss: 0.2890 - val_accuracy: 0.9179\n",
      "Epoch 10/10\n",
      "480/480 [==============================] - 29s 61ms/step - loss: 0.1137 - accuracy: 0.9655 - val_loss: 0.3362 - val_accuracy: 0.9136\n"
     ]
    },
    {
     "data": {
      "text/plain": [
       "<keras.callbacks.History at 0x23dc43b0a30>"
      ]
     },
     "execution_count": 15,
     "metadata": {},
     "output_type": "execute_result"
    }
   ],
   "source": [
    "model.fit_generator(generator=x_train,steps_per_epoch=len(x_train),epochs=10,validation_data=x_test,validation_steps=len(x_test))"
   ]
  },
  {
   "cell_type": "code",
   "execution_count": 16,
   "id": "dc08213b",
   "metadata": {},
   "outputs": [],
   "source": [
    "model.save('ECG.h5')"
   ]
  }
 ],
 "metadata": {
  "kernelspec": {
   "display_name": "Python 3",
   "language": "python",
   "name": "python3"
  },
  "language_info": {
   "codemirror_mode": {
    "name": "ipython",
    "version": 3
   },
   "file_extension": ".py",
   "mimetype": "text/x-python",
   "name": "python",
   "nbconvert_exporter": "python",
   "pygments_lexer": "ipython3",
   "version": "3.8.8"
  }
 },
 "nbformat": 4,
 "nbformat_minor": 5
}
